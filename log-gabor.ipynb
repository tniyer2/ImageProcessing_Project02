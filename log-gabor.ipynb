{
 "cells": [
  {
   "cell_type": "markdown",
   "metadata": {},
   "source": [
    "Log-Gabor Filter\n",
    "==========\n",
    "\n",
    "This is an implementation of the Log-Gabor Filter."
   ]
  },
  {
   "cell_type": "code",
   "execution_count": 2,
   "metadata": {},
   "outputs": [
    {
     "data": {
      "text/plain": [
       "<Figure size 432x288 with 0 Axes>"
      ]
     },
     "metadata": {},
     "output_type": "display_data"
    }
   ],
   "source": [
    "# Common imports (you may not end up using all of them)\n",
    "import numpy as np\n",
    "import numpy.fft as fft\n",
    "import scipy.ndimage as ndi\n",
    "import skimage as ski\n",
    "import skimage.io as io\n",
    "import skimage.exposure as ex\n",
    "import matplotlib.pylab as plt\n",
    "import math\n",
    "plt.gray() # set default to grayscale"
   ]
  },
  {
   "cell_type": "code",
   "execution_count": 3,
   "metadata": {},
   "outputs": [],
   "source": [
    "\"\"\"\n",
    "Runs the Log-Gabor filter on an image.\n",
    "\n",
    "Arguments:\n",
    "  im the image to use the filter on.\n",
    "\n",
    "Returns:\n",
    "    the resulting image that is the output of the filter.\n",
    "\"\"\"\n",
    "number_scales = 5\n",
    "number_orientations = 8 \n",
    "N = 128 \n",
    "\n",
    "def log_gabor_filter(f_0, theta_0):\n",
    "\n",
    "  # dimensions of filter\n",
    "  scale_bandwidth =  0.996 * math.sqrt(2/3)\n",
    "  angle_bandwidth =  0.996 * (1/math.sqrt(2)) * (np.pi/number_orientations)\n",
    "\n",
    "  extent = np.arange(-N/2, N/2 + N%2)\n",
    "  x, y = np.meshgrid(extent,extent)\n",
    "  mid = int(N/2)\n",
    "\n",
    "  # orientation component\n",
    "  theta = np.arctan2(y,x)\n",
    "  center_angle = ((np.pi/number_orientations) * theta_0) if (f_0 % 2) \\\n",
    "    else ((np.pi/number_orientations) * (theta_0+0.5))\n",
    "  costheta = np.cos(theta)\n",
    "  sintheta = np.sin(theta)\n",
    "  ds = sintheta * math.cos(center_angle) - costheta * math.sin(center_angle)    \n",
    "  dc = costheta * math.cos(center_angle) + sintheta * math.sin(center_angle)  \n",
    "  dtheta = np.arctan2(ds,dc)\n",
    "  orientation_component =  np.exp(-0.5 * (dtheta/angle_bandwidth)**2)\n",
    "\n",
    "  # frequency component\n",
    "  raw = np.sqrt(x**2+y**2)\n",
    "  raw[mid,mid] = 1\n",
    "  raw = np.log2(raw)\n",
    "  center_scale = math.log2(N) - f_0\n",
    "  draw = raw-center_scale\n",
    "  frequency_component = np.exp(-0.5 * (draw/ scale_bandwidth)**2)\n",
    "\n",
    "  # reset origin to zero (not needed as it is already 0?)\n",
    "  frequency_component[mid,mid] = 0\n",
    "\n",
    "  return frequency_component * orientation_component"
   ]
  },
  {
   "cell_type": "code",
   "execution_count": 44,
   "metadata": {},
   "outputs": [
    {
     "data": {
      "text/plain": [
       "<matplotlib.image.AxesImage at 0x7fe63b0fb280>"
      ]
     },
     "execution_count": 44,
     "metadata": {},
     "output_type": "execute_result"
    },
    {
     "data": {
      "image/png": "[encoded data removed]",
      "text/plain": [
       "<Figure size 432x288 with 1 Axes>"
      ]
     },
     "metadata": {
      "needs_background": "light"
     },
     "output_type": "display_data"
    }
   ],
   "source": [
    "# for frequency in np.linspace(0, 1, num=10):\n",
    "#     for direction in range(16):\n",
    "#         theta = (2 * math.pi)/direction\n",
    "#         plt.subplot()\n",
    "io.imshow(log_gabor_filter(0.5, 20))\n"
   ]
  }
 ],
 "metadata": {
  "interpreter": {
   "hash": "aee8b7b246df8f9039afb4144a1f6fd8d2ca17a180786b69acc140d282b71a49"
  },
  "kernelspec": {
   "display_name": "Python 3.9.7 64-bit",
   "name": "python3"
  },
  "language_info": {
   "codemirror_mode": {
    "name": "ipython",
    "version": 3
   },
   "file_extension": ".py",
   "mimetype": "text/x-python",
   "name": "python",
   "nbconvert_exporter": "python",
   "pygments_lexer": "ipython3",
   "version": "3.9.7"
  },
  "orig_nbformat": 4
 },
 "nbformat": 4,
 "nbformat_minor": 2
}

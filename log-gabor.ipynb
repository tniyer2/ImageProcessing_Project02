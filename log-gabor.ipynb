{
 "cells": [
  {
   "cell_type": "markdown",
   "source": [
    "Log-Gabor Filter\n",
    "==========\n",
    "\n",
    "This is an implementation of the Log-Gabor Filter."
   ],
   "metadata": {}
  },
  {
   "cell_type": "code",
   "execution_count": 2,
   "source": [
    "# Common imports (you may not end up using all of them)\n",
    "import numpy as np\n",
    "import numpy.fft as fft\n",
    "import scipy.ndimage as ndi\n",
    "import skimage as ski\n",
    "import skimage.io as io\n",
    "import skimage.exposure as ex\n",
    "import matplotlib.pylab as plt\n",
    "plt.gray() # set default to grayscale"
   ],
   "outputs": [
    {
     "output_type": "display_data",
     "data": {
      "text/plain": [
       "<Figure size 432x288 with 0 Axes>"
      ]
     },
     "metadata": {}
    }
   ],
   "metadata": {}
  },
  {
   "cell_type": "code",
   "execution_count": null,
   "source": [
    "\"\"\"\n",
    "Runs the Log-Gabor filter on an image.\n",
    "\n",
    "Arguments:\n",
    "  im the image to use the filter on.\n",
    "\n",
    "Returns:\n",
    "    the resulting image that is the output of the filter.\n",
    "\"\"\"\n",
    "def log_gabor_filter(im):\n",
    "    pass"
   ],
   "outputs": [],
   "metadata": {}
  },
  {
   "cell_type": "code",
   "execution_count": null,
   "source": [],
   "outputs": [],
   "metadata": {}
  }
 ],
 "metadata": {
  "orig_nbformat": 4,
  "language_info": {
   "name": "python",
   "version": "3.9.7",
   "mimetype": "text/x-python",
   "codemirror_mode": {
    "name": "ipython",
    "version": 3
   },
   "pygments_lexer": "ipython3",
   "nbconvert_exporter": "python",
   "file_extension": ".py"
  },
  "kernelspec": {
   "name": "python3",
   "display_name": "Python 3.9.7 64-bit"
  },
  "interpreter": {
   "hash": "aee8b7b246df8f9039afb4144a1f6fd8d2ca17a180786b69acc140d282b71a49"
  }
 },
 "nbformat": 4,
 "nbformat_minor": 2
}